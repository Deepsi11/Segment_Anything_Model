{
  "nbformat": 4,
  "nbformat_minor": 0,
  "metadata": {
    "colab": {
      "provenance": []
    },
    "kernelspec": {
      "name": "python3",
      "display_name": "Python 3"
    },
    "language_info": {
      "name": "python"
    }
  },
  "cells": [
    {
      "cell_type": "markdown",
      "source": [
        "#**USING META'S \"SEGMENT ANYTHING\" MODEL TO CHANGE THE FLOORING OF THE HOUSE**"
      ],
      "metadata": {
        "id": "_bT574zn7RWN"
      }
    },
    {
      "cell_type": "markdown",
      "source": [
        "#**INSTALLING THE REQUIREMENTS**"
      ],
      "metadata": {
        "id": "9doGjHNe7f1b"
      }
    },
    {
      "cell_type": "code",
      "source": [
        "#pip install segment-anything opencv-python pillow numpy\n"
      ],
      "metadata": {
        "colab": {
          "base_uri": "https://localhost:8080/"
        },
        "id": "jtucpMtVxT0l",
        "outputId": "0b03aceb-8865-4d45-8122-dbea40ace518"
      },
      "execution_count": 6,
      "outputs": [
        {
          "output_type": "stream",
          "name": "stdout",
          "text": [
            "Requirement already satisfied: segment-anything in /usr/local/lib/python3.10/dist-packages (1.0)\n",
            "Requirement already satisfied: opencv-python in /usr/local/lib/python3.10/dist-packages (4.10.0.84)\n",
            "Requirement already satisfied: pillow in /usr/local/lib/python3.10/dist-packages (9.4.0)\n",
            "Requirement already satisfied: numpy in /usr/local/lib/python3.10/dist-packages (1.26.4)\n"
          ]
        }
      ]
    },
    {
      "cell_type": "markdown",
      "source": [
        "#**LOADING THE MODEL'S WEIGHTS**"
      ],
      "metadata": {
        "id": "B-GOHNkN7lqW"
      }
    },
    {
      "cell_type": "code",
      "execution_count": 7,
      "metadata": {
        "id": "lpnJCNB8rwNM"
      },
      "outputs": [],
      "source": [
        "import cv2\n",
        "import numpy as np\n",
        "from segment_anything import SamAutomaticMaskGenerator, sam_model_registry\n",
        "from PIL import Image\n",
        "\n",
        "# Load the image\n",
        "image_path = \"/content/house img.jpg\"\n",
        "image = cv2.imread(image_path)\n",
        "\n",
        "# Convert the loaded image to RGB\n",
        "image_rgb = cv2.cvtColor(image, cv2.COLOR_BGR2RGB)\n",
        "\n",
        "\n",
        "# Loading SAM model's weight file\n",
        "sam_checkpoint = \"/content/sam_vit_b_01ec64.pth\"\n",
        "model_type = \"vit_b\"\n",
        "sam = sam_model_registry[model_type](checkpoint=sam_checkpoint)\n",
        "mask_generator = SamAutomaticMaskGenerator(sam)\n"
      ]
    },
    {
      "cell_type": "markdown",
      "source": [
        "#**GENERATING THE MASK FOR THE IMAGE**"
      ],
      "metadata": {
        "id": "BrKju7SK7u34"
      }
    },
    {
      "cell_type": "code",
      "source": [
        "# Generate masks for the image\n",
        "masks = mask_generator.generate(image)\n",
        "\n",
        "# Assuming the floor is one of the masks\n",
        "# Let's assume the largest mask corresponds to the floor\n",
        "floor_mask = max(masks, key=lambda x: np.sum(x[\"segmentation\"]))\n",
        "\n",
        "# Create a binary mask for the floor\n",
        "floor_binary_mask = floor_mask[\"segmentation\"].astype(np.uint8) * 255\n",
        "\n",
        "# Ensure the mask is binary\n",
        "floor_binary_mask = cv2.threshold(floor_binary_mask, 127, 255, cv2.THRESH_BINARY)[1]\n"
      ],
      "metadata": {
        "id": "D5vsKP4Hsydd"
      },
      "execution_count": 8,
      "outputs": []
    },
    {
      "cell_type": "markdown",
      "source": [
        "#**APPLYING A NEW FLOORING TEXTURE TO A SEGMENTED AREA IN AN IMAGE**"
      ],
      "metadata": {
        "id": "rdtkFQ758XbG"
      }
    },
    {
      "cell_type": "code",
      "source": [
        "# Load and resize the new flooring texture\n",
        "new_floor_texture = Image.open(\"/content/flooring.jpeg\")\n",
        "new_floor_texture = new_floor_texture.resize((image.shape[1], image.shape[0]))\n",
        "\n",
        "# Convert to NumPy array\n",
        "new_floor_texture = np.array(new_floor_texture)\n",
        "\n",
        "# Ensure the texture is applied only where the mask is white\n",
        "floor_area = cv2.bitwise_and(new_floor_texture, new_floor_texture, mask=floor_binary_mask)\n",
        "\n",
        "# Invert the mask for the background\n",
        "background_mask = cv2.bitwise_not(floor_binary_mask)\n",
        "background = cv2.bitwise_and(image_rgb, image_rgb, mask=background_mask)\n",
        "\n",
        "# Combine the floor area with the rest of the image\n",
        "final_image = cv2.add(floor_area, background)"
      ],
      "metadata": {
        "id": "L5jqA9x2syft"
      },
      "execution_count": 11,
      "outputs": []
    },
    {
      "cell_type": "markdown",
      "source": [
        "#**BLENDING NEW FLOORING TEXTURE WITH ORIGINAL IMAGE USING ALPHA MASKING**"
      ],
      "metadata": {
        "id": "hVOIRvSm-IJq"
      }
    },
    {
      "cell_type": "code",
      "source": [
        "# Create an alpha channel based on the mask\n",
        "alpha = floor_binary_mask / 255.0\n",
        "\n",
        "# Perform alpha blending manually\n",
        "for c in range(0, 3):\n",
        "    final_image[:, :, c] = (alpha * new_floor_texture[:, :, c] +\n",
        "                            (1 - alpha) * image_rgb[:, :, c])"
      ],
      "metadata": {
        "id": "0WNoP0gusykF"
      },
      "execution_count": 12,
      "outputs": []
    },
    {
      "cell_type": "markdown",
      "source": [
        "#**FINAL COLOR CONVERSION AND SAVING THE MODIFIED IMAGE**"
      ],
      "metadata": {
        "id": "xxDEuph1-b9O"
      }
    },
    {
      "cell_type": "code",
      "source": [
        "# Convert back to BGR if needed\n",
        "final_image_bgr = cv2.cvtColor(final_image, cv2.COLOR_RGB2BGR)\n",
        "\n",
        "# Save the final image\n",
        "cv2.imwrite(\"modified_image.jpg\", final_image_bgr)\n"
      ],
      "metadata": {
        "colab": {
          "base_uri": "https://localhost:8080/"
        },
        "id": "5nZB4UaNsym0",
        "outputId": "786c6619-90bc-495b-c6e1-72e57a851d24"
      },
      "execution_count": 13,
      "outputs": [
        {
          "output_type": "execute_result",
          "data": {
            "text/plain": [
              "True"
            ]
          },
          "metadata": {},
          "execution_count": 13
        }
      ]
    },
    {
      "cell_type": "code",
      "source": [],
      "metadata": {
        "id": "OYE-7jE6syqU"
      },
      "execution_count": null,
      "outputs": []
    }
  ]
}